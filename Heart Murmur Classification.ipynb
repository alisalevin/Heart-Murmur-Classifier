{
 "cells": [
  {
   "cell_type": "code",
   "execution_count": 1,
   "metadata": {
    "collapsed": false
   },
   "outputs": [
   ],
   "source": [
    "import numpy as np\n",
    "import pandas as pd\n",
    "import sklearn as s\n",
    "from sklearn.model_selection import train_test_split\n",
    "\n",
    "from sklearn.model_selection import cross_val_score\n",
    "from sklearn.metrics import accuracy_score\n",
    "from sklearn.neighbors import KNeighborsClassifier\n",
    "from sklearn import svm\n",
    "\n",
    "from sklearn.model_selection import cross_val_predict\n",
    "from sklearn.metrics import confusion_matrix\n",
    "from sklearn.metrics import classification_report"
   ]
  },
  {
   "cell_type": "code",
   "execution_count": 2,
   "metadata": {
    "collapsed": false
   },
   "outputs": [
   ],
   "source": [
    "# LABELS: HEALTHY, SYSTOLIC, DIASTOLIC, & BOTH"
   ]
  },
  {
   "cell_type": "code",
   "execution_count": 2,
   "metadata": {
    "collapsed": false
   },
   "outputs": [
   ],
   "source": [
    "# Classification with Old Features"
   ]
  },
  {
   "cell_type": "code",
   "execution_count": 3,
   "metadata": {
    "collapsed": false
   },
   "outputs": [
   ],
   "source": [
    "# Loading the Data\n",
    "heart = pd.read_csv(\"heartsound_features_og.csv\")"
   ]
  },
  {
   "cell_type": "code",
   "execution_count": 4,
   "metadata": {
    "collapsed": false
   },
   "outputs": [
   ],
   "source": [
    "# heart.info()"
   ]
  },
  {
   "cell_type": "code",
   "execution_count": 5,
   "metadata": {
    "collapsed": false
   },
   "outputs": [
   ],
   "source": [
    "# heart.describe()"
   ]
  },
  {
   "cell_type": "code",
   "execution_count": 6,
   "metadata": {
    "collapsed": false
   },
   "outputs": [
    {
     "data": {
      "text/html": [
       "<div>\n",
       "<style scoped>\n",
       "    .dataframe tbody tr th:only-of-type {\n",
       "        vertical-align: middle;\n",
       "    }\n",
       "\n",
       "    .dataframe tbody tr th {\n",
       "        vertical-align: top;\n",
       "    }\n",
       "\n",
       "    .dataframe thead th {\n",
       "        text-align: right;\n",
       "    }\n",
       "</style>\n",
       "<table border=\"1\" class=\"dataframe\">\n",
       "  <thead>\n",
       "    <tr style=\"text-align: right;\">\n",
       "      <th></th>\n",
       "      <th>fileName</th>\n",
       "      <th>Label</th>\n",
       "      <th>S1@(ms)</th>\n",
       "      <th>S2@(ms)</th>\n",
       "      <th>systole</th>\n",
       "      <th>diastole</th>\n",
       "      <th>S1(ABV)</th>\n",
       "      <th>syst_mur(0/1)</th>\n",
       "      <th>smur_begin</th>\n",
       "      <th>syst_dur</th>\n",
       "      <th>syst_amp</th>\n",
       "      <th>syst_freq</th>\n",
       "      <th>S2(ABV)</th>\n",
       "      <th>diast_mur(0/1)</th>\n",
       "      <th>dmur_begin</th>\n",
       "      <th>diast_dur</th>\n",
       "      <th>diast_amp</th>\n",
       "      <th>diast_freq</th>\n",
       "    </tr>\n",
       "  </thead>\n",
       "  <tbody>\n",
       "  </tbody>\n",
       "</table>\n",
       "</div>"
      ],
      "text/plain": [
       "Empty DataFrame\n",
       "Columns: [fileName, Label, S1@(ms), S2@(ms), systole, diastole, S1(ABV), syst_mur(0/1), smur_begin, syst_dur, syst_amp, syst_freq, S2(ABV), diast_mur(0/1), dmur_begin, diast_dur, diast_amp, diast_freq]\n",
       "Index: []"
      ]
     },
     "execution_count": 6,
     "metadata": {
     },
     "output_type": "execute_result"
    }
   ],
   "source": [
    "sample_incomplete_rows = heart[heart.isnull().any(axis=1)].head()\n",
    "sample_incomplete_rows"
   ]
  },
  {
   "cell_type": "code",
   "execution_count": 7,
   "metadata": {
    "collapsed": false
   },
   "outputs": [
   ],
   "source": [
    "heart_labels = heart[\"Label\"].copy()\n",
    "heart = heart.drop(\"Label\", axis=1)\n",
    "heart = heart.drop(\"fileName\", axis=1)"
   ]
  },
  {
   "cell_type": "code",
   "execution_count": 0,
   "metadata": {
    "collapsed": false
   },
   "outputs": [
   ],
   "source": [
    "# Testing for Overfitting/Underfitting"
   ]
  },
  {
   "cell_type": "code",
   "execution_count": 9,
   "metadata": {
    "collapsed": false
   },
   "outputs": [
    {
     "name": "stdout",
     "output_type": "stream",
     "text": [
      "90.33333333333329\n",
      "91.40476190476187\n"
     ]
    }
   ],
   "source": [
    "# Cross-Validation with an 80-20 split\n",
    "num = 100\n",
    "knn_acc = 0\n",
    "svm_acc = 0\n",
    "for i in range(0, num):\n",
    "\n",
    "    train_X, test_X, train_y, test_y = train_test_split(heart, heart_labels, test_size=.1)\n",
    "\n",
    "    # K-Nearest Neighbors to classify test set\n",
    "    knn = KNeighborsClassifier(n_neighbors=5)\n",
    "    knn.fit(train_X, train_y)\n",
    "    predictions = knn.predict(test_X)\n",
    "    knn_acc = knn_acc + accuracy_score(test_y, predictions, normalize=True, sample_weight=None)\n",
    "\n",
    "    # Support Vector Classifier to classify test set\n",
    "    clf = svm.SVC(kernel='linear')\n",
    "    clf.fit(train_X, train_y)\n",
    "    predictions = clf.predict(test_X)\n",
    "    svm_acc = svm_acc + accuracy_score(test_y, predictions, normalize=True, sample_weight=None)\n",
    "\n",
    "print(knn_acc / num * 100)\n",
    "print(svm_acc / num * 100)"
   ]
  },
  {
   "cell_type": "code",
   "execution_count": 10,
   "metadata": {
    "collapsed": false
   },
   "outputs": [
    {
     "name": "stdout",
     "output_type": "stream",
     "text": [
      "90.44047619047619\n",
      "91.53571428571432\n"
     ]
    }
   ],
   "source": [
    "# Cross-Validation with an 90-10 split\n",
    "num = 100\n",
    "knn_acc = 0\n",
    "svm_acc = 0\n",
    "for i in range(0, num):\n",
    "\n",
    "    train_X, test_X, train_y, test_y = train_test_split(heart, heart_labels, test_size=.2)\n",
    "\n",
    "    # K-Nearest Neighbors to classify test set\n",
    "    knn = KNeighborsClassifier(n_neighbors=5)\n",
    "    knn.fit(train_X, train_y)\n",
    "    predictions = knn.predict(test_X)\n",
    "    knn_acc = knn_acc + accuracy_score(test_y, predictions, normalize=True, sample_weight=None)\n",
    "\n",
    "    # Support Vector Classifier to classify test set\n",
    "    clf = svm.SVC(kernel='linear')\n",
    "    clf.fit(train_X, train_y)\n",
    "    predictions = clf.predict(test_X)\n",
    "    svm_acc = svm_acc + accuracy_score(test_y, predictions, normalize=True, sample_weight=None)\n",
    "\n",
    "print(knn_acc / num * 100)\n",
    "print(svm_acc / num * 100)"
   ]
  },
  {
   "cell_type": "code",
   "execution_count": 0,
   "metadata": {
    "collapsed": false
   },
   "outputs": [
   ],
   "source": [
    "# Result for Old Features: we are not overfitting or underfitting"
   ]
  },
  {
   "cell_type": "code",
   "execution_count": 11,
   "metadata": {
    "collapsed": false
   },
   "outputs": [
   ],
   "source": [
    "# Classification with New, Added Features"
   ]
  },
  {
   "cell_type": "code",
   "execution_count": 0,
   "metadata": {
    "collapsed": false
   },
   "outputs": [
   ],
   "source": [
    "# ONLY 4 LABELS"
   ]
  },
  {
   "cell_type": "code",
   "execution_count": 54,
   "metadata": {
    "collapsed": false
   },
   "outputs": [
   ],
   "source": [
    "# Loading the Data\n",
    "heart = pd.read_csv(\"heartsound_features.csv\")"
   ]
  },
  {
   "cell_type": "code",
   "execution_count": 55,
   "metadata": {
    "collapsed": false
   },
   "outputs": [
   ],
   "source": [
    "# heart.info()"
   ]
  },
  {
   "cell_type": "code",
   "execution_count": 56,
   "metadata": {
    "collapsed": false
   },
   "outputs": [
   ],
   "source": [
    "# heart.describe()"
   ]
  },
  {
   "cell_type": "code",
   "execution_count": 57,
   "metadata": {
    "collapsed": false
   },
   "outputs": [
    {
     "data": {
      "text/html": [
       "<div>\n",
       "<style scoped>\n",
       "    .dataframe tbody tr th:only-of-type {\n",
       "        vertical-align: middle;\n",
       "    }\n",
       "\n",
       "    .dataframe tbody tr th {\n",
       "        vertical-align: top;\n",
       "    }\n",
       "\n",
       "    .dataframe thead th {\n",
       "        text-align: right;\n",
       "    }\n",
       "</style>\n",
       "<table border=\"1\" class=\"dataframe\">\n",
       "  <thead>\n",
       "    <tr style=\"text-align: right;\">\n",
       "      <th></th>\n",
       "      <th>fileName</th>\n",
       "      <th>Label</th>\n",
       "      <th>S1@(ms)</th>\n",
       "      <th>S2@(ms)</th>\n",
       "      <th>systole</th>\n",
       "      <th>diastole</th>\n",
       "      <th>S1(ABV)</th>\n",
       "      <th>syst_mur(0/1)</th>\n",
       "      <th>smur_begin</th>\n",
       "      <th>syst_dur</th>\n",
       "      <th>...</th>\n",
       "      <th>Npeaks systole</th>\n",
       "      <th>Npeaks diastole</th>\n",
       "      <th>var_pks_systole</th>\n",
       "      <th>var_pks_diastole</th>\n",
       "      <th>L_pks_syst</th>\n",
       "      <th>M_pks_syst</th>\n",
       "      <th>H_pks_syst</th>\n",
       "      <th>L_pks_diast</th>\n",
       "      <th>M_pks_diast</th>\n",
       "      <th>H_pks_diast</th>\n",
       "    </tr>\n",
       "  </thead>\n",
       "  <tbody>\n",
       "  </tbody>\n",
       "</table>\n",
       "<p>0 rows × 34 columns</p>\n",
       "</div>"
      ],
      "text/plain": [
       "Empty DataFrame\n",
       "Columns: [fileName, Label, S1@(ms), S2@(ms), systole, diastole, S1(ABV), syst_mur(0/1), smur_begin, syst_dur, syst_amp, syst_freq, S2(ABV), diast_mur(0/1), dmur_begin, diast_dur, diast_amp, diast_freq, syst_s1_amp_ratio, diast_s1_amp_ratio, syst_mur(0/1).v2, diast_mur(0/1).v2, sum_diff_syst, sum_diff_diast, Npeaks systole, Npeaks diastole, var_pks_systole, var_pks_diastole, L_pks_syst, M_pks_syst, H_pks_syst, L_pks_diast, M_pks_diast, H_pks_diast]\n",
       "Index: []\n",
       "\n",
       "[0 rows x 34 columns]"
      ]
     },
     "execution_count": 57,
     "metadata": {
     },
     "output_type": "execute_result"
    }
   ],
   "source": [
    "sample_incomplete_rows = heart[heart.isnull().any(axis=1)].head()\n",
    "sample_incomplete_rows"
   ]
  },
  {
   "cell_type": "code",
   "execution_count": 58,
   "metadata": {
    "collapsed": false
   },
   "outputs": [
   ],
   "source": [
    "heart_labels = heart[\"Label\"].copy()\n",
    "heart = heart.drop(\"Label\", axis=1)\n",
    "heart = heart.drop(\"fileName\", axis=1)"
   ]
  },
  {
   "cell_type": "code",
   "execution_count": 59,
   "metadata": {
    "collapsed": false
   },
   "outputs": [
   ],
   "source": [
    "# Testing for Overfitting/Underfitting and Confusion Matrix Analysis"
   ]
  },
  {
   "cell_type": "code",
   "execution_count": 60,
   "metadata": {
    "collapsed": false
   },
   "outputs": [
   ],
   "source": [
    "# Cross-Validation with an 80-20 split"
   ]
  },
  {
   "cell_type": "code",
   "execution_count": 86,
   "metadata": {
    "collapsed": false
   },
   "outputs": [
    {
     "name": "stderr",
     "output_type": "stream",
     "text": [
      "/usr/local/lib/python3.6/dist-packages/sklearn/model_selection/_split.py:672: UserWarning: The least populated class in y has only 14 members, which is less than n_splits=100.\n",
      "  % (min_groups, self.n_splits)), UserWarning)\n"
     ]
    },
    {
     "name": "stderr",
     "output_type": "stream",
     "text": [
      "/usr/local/lib/python3.6/dist-packages/sklearn/model_selection/_split.py:672: UserWarning: The least populated class in y has only 14 members, which is less than n_splits=100.\n",
      "  % (min_groups, self.n_splits)), UserWarning)\n"
     ]
    },
    {
     "name": "stdout",
     "output_type": "stream",
     "text": [
      "93.28571428571422\n",
      "97.39285714285712\n"
     ]
    }
   ],
   "source": [
    "num = 100\n",
    "knn_acc = 0\n",
    "svm_acc = 0\n",
    "for i in range(0, num):\n",
    "\n",
    "    train_X, test_X, train_y, test_y = train_test_split(heart, heart_labels, test_size=.2)\n",
    "\n",
    "    # K-Nearest Neighbors to classify test set\n",
    "    knn = KNeighborsClassifier(n_neighbors=5)\n",
    "    knn.fit(train_X, train_y)\n",
    "    predictions = knn.predict(test_X)\n",
    "    knn_acc = knn_acc + accuracy_score(test_y, predictions, normalize=True, sample_weight=None)\n",
    "\n",
    "    # Support Vector Classifier to classify test set\n",
    "    clf = svm.SVC(kernel='linear')\n",
    "    clf.fit(train_X, train_y)\n",
    "    predictions = clf.predict(test_X)\n",
    "    svm_acc = svm_acc + accuracy_score(test_y, predictions, normalize=True, sample_weight=None)\n",
    "\n",
    "train_y_pred_knn = cross_val_predict(knn, train_X, train_y, cv=100)\n",
    "train_y_pred_svm = cross_val_predict(clf, train_X, train_y, cv=100)\n",
    "print(knn_acc / num * 100)\n",
    "print(svm_acc / num * 100)"
   ]
  },
  {
   "cell_type": "code",
   "execution_count": 87,
   "metadata": {
    "collapsed": false
   },
   "outputs": [
   ],
   "source": [
    "# Confusion Matrix\n",
    "    # Row – actual class\n",
    "    # Column – predicted class"
   ]
  },
  {
   "cell_type": "code",
   "execution_count": 88,
   "metadata": {
    "collapsed": false
   },
   "outputs": [
    {
     "data": {
      "text/plain": [
       "array([[ 76,   6,   0,   1],\n",
       "       [  5, 209,   1,   1],\n",
       "       [  4,   3,   7,   0],\n",
       "       [  2,   0,   0,  18]])"
      ]
     },
     "execution_count": 88,
     "metadata": {
     },
     "output_type": "execute_result"
    }
   ],
   "source": [
    "# Confusion Matrix for KNN\n",
    "confusion_matrix(train_y, train_y_pred_knn)"
   ]
  },
  {
   "cell_type": "code",
   "execution_count": 89,
   "metadata": {
    "collapsed": false
   },
   "outputs": [
    {
     "data": {
      "text/plain": [
       "array([[ 83,   0,   0,   0],\n",
       "       [  0, 213,   2,   1],\n",
       "       [  0,   2,  12,   0],\n",
       "       [  0,   3,   1,  16]])"
      ]
     },
     "execution_count": 89,
     "metadata": {
     },
     "output_type": "execute_result"
    }
   ],
   "source": [
    "# Confusion Matrix for SVM\n",
    "confusion_matrix(train_y, train_y_pred_svm)"
   ]
  },
  {
   "cell_type": "code",
   "execution_count": 90,
   "metadata": {
    "collapsed": false
   },
   "outputs": [
    {
     "name": "stdout",
     "output_type": "stream",
     "text": [
      "              precision    recall  f1-score   support\n",
      "\n",
      "           0      0.874     0.916     0.894        83\n",
      "           1      0.959     0.968     0.963       216\n",
      "           2      0.875     0.500     0.636        14\n",
      "           3      0.900     0.900     0.900        20\n",
      "\n",
      "    accuracy                          0.931       333\n",
      "   macro avg      0.902     0.821     0.848       333\n",
      "weighted avg      0.930     0.931     0.928       333\n",
      "\n"
     ]
    }
   ],
   "source": [
    "# Precision and Recall for KNN\n",
    "print(classification_report(train_y, train_y_pred_knn, digits=3))"
   ]
  },
  {
   "cell_type": "code",
   "execution_count": 91,
   "metadata": {
    "collapsed": false
   },
   "outputs": [
    {
     "name": "stdout",
     "output_type": "stream",
     "text": [
      "              precision    recall  f1-score   support\n",
      "\n",
      "           0      1.000     1.000     1.000        83\n",
      "           1      0.977     0.986     0.982       216\n",
      "           2      0.800     0.857     0.828        14\n",
      "           3      0.941     0.800     0.865        20\n",
      "\n",
      "    accuracy                          0.973       333\n",
      "   macro avg      0.930     0.911     0.919       333\n",
      "weighted avg      0.973     0.973     0.973       333\n",
      "\n"
     ]
    }
   ],
   "source": [
    "# Precision and Recall for SVM\n",
    "print(classification_report(train_y, train_y_pred_svm, digits=3))"
   ]
  },
  {
   "cell_type": "code",
   "execution_count": 78,
   "metadata": {
    "collapsed": false
   },
   "outputs": [
   ],
   "source": [
    "# Cross-Validation with an 90-10 split"
   ]
  },
  {
   "cell_type": "code",
   "execution_count": 81,
   "metadata": {
    "collapsed": false
   },
   "outputs": [
    {
     "name": "stderr",
     "output_type": "stream",
     "text": [
      "/usr/local/lib/python3.6/dist-packages/sklearn/model_selection/_split.py:672: UserWarning: The least populated class in y has only 10 members, which is less than n_splits=100.\n",
      "  % (min_groups, self.n_splits)), UserWarning)\n"
     ]
    },
    {
     "name": "stderr",
     "output_type": "stream",
     "text": [
      "/usr/local/lib/python3.6/dist-packages/sklearn/model_selection/_split.py:672: UserWarning: The least populated class in y has only 10 members, which is less than n_splits=100.\n",
      "  % (min_groups, self.n_splits)), UserWarning)\n"
     ]
    },
    {
     "name": "stdout",
     "output_type": "stream",
     "text": [
      "93.02380952380948\n",
      "96.96428571428572\n"
     ]
    }
   ],
   "source": [
    "num = 100\n",
    "knn_acc = 0\n",
    "svm_acc = 0\n",
    "for i in range(0, num):\n",
    "\n",
    "    train_X, test_X, train_y, test_y = train_test_split(heart, heart_labels, test_size=.2)\n",
    "\n",
    "    # K-Nearest Neighbors to classify test set\n",
    "    knn = KNeighborsClassifier(n_neighbors=5)\n",
    "    knn.fit(train_X, train_y)\n",
    "    predictions = knn.predict(test_X)\n",
    "    knn_acc = knn_acc + accuracy_score(test_y, predictions, normalize=True, sample_weight=None)\n",
    "\n",
    "    # Support Vector Classifier to classify test set\n",
    "    clf = svm.SVC(kernel='linear')\n",
    "    clf.fit(train_X, train_y)\n",
    "    predictions = clf.predict(test_X)\n",
    "    svm_acc = svm_acc + accuracy_score(test_y, predictions, normalize=True, sample_weight=None)\n",
    "\n",
    "\n",
    "train_y_pred_knn = cross_val_predict(knn, train_X, train_y, cv=100)\n",
    "train_y_pred_svm = cross_val_predict(clf, train_X, train_y, cv=100)\n",
    "print(knn_acc / num * 100)\n",
    "print(svm_acc / num * 100)"
   ]
  },
  {
   "cell_type": "code",
   "execution_count": 82,
   "metadata": {
    "collapsed": false
   },
   "outputs": [
    {
     "data": {
      "text/plain": [
       "array([[ 66,   6,   0,   2],\n",
       "       [  0, 222,   1,   2],\n",
       "       [  3,   1,   5,   1],\n",
       "       [  3,   3,   0,  18]])"
      ]
     },
     "execution_count": 82,
     "metadata": {
     },
     "output_type": "execute_result"
    }
   ],
   "source": [
    "# Confusion Matrix for KNN\n",
    "confusion_matrix(train_y, train_y_pred_knn)"
   ]
  },
  {
   "cell_type": "code",
   "execution_count": 83,
   "metadata": {
    "collapsed": false
   },
   "outputs": [
    {
     "data": {
      "text/plain": [
       "array([[ 74,   0,   0,   0],\n",
       "       [  0, 220,   1,   4],\n",
       "       [  0,   1,   9,   0],\n",
       "       [  0,   3,   1,  20]])"
      ]
     },
     "execution_count": 83,
     "metadata": {
     },
     "output_type": "execute_result"
    }
   ],
   "source": [
    "# Confusion Matrix for SVM\n",
    "confusion_matrix(train_y, train_y_pred_svm)"
   ]
  },
  {
   "cell_type": "code",
   "execution_count": 84,
   "metadata": {
    "collapsed": false
   },
   "outputs": [
    {
     "name": "stdout",
     "output_type": "stream",
     "text": [
      "              precision    recall  f1-score   support\n",
      "\n",
      "           0      0.917     0.892     0.904        74\n",
      "           1      0.957     0.987     0.972       225\n",
      "           2      0.833     0.500     0.625        10\n",
      "           3      0.783     0.750     0.766        24\n",
      "\n",
      "    accuracy                          0.934       333\n",
      "   macro avg      0.872     0.782     0.817       333\n",
      "weighted avg      0.932     0.934     0.931       333\n",
      "\n"
     ]
    }
   ],
   "source": [
    "# Precision and Recall for KNN\n",
    "print(classification_report(train_y, train_y_pred_knn, digits=3))"
   ]
  },
  {
   "cell_type": "code",
   "execution_count": 85,
   "metadata": {
    "collapsed": false
   },
   "outputs": [
    {
     "name": "stdout",
     "output_type": "stream",
     "text": [
      "              precision    recall  f1-score   support\n",
      "\n",
      "           0      1.000     1.000     1.000        74\n",
      "           1      0.982     0.978     0.980       225\n",
      "           2      0.818     0.900     0.857        10\n",
      "           3      0.833     0.833     0.833        24\n",
      "\n",
      "    accuracy                          0.970       333\n",
      "   macro avg      0.908     0.928     0.918       333\n",
      "weighted avg      0.970     0.970     0.970       333\n",
      "\n"
     ]
    }
   ],
   "source": [
    "# Precision and Recall for SVM\n",
    "print(classification_report(train_y, train_y_pred_svm, digits=3))"
   ]
  },
  {
   "cell_type": "code",
   "execution_count": 0,
   "metadata": {
    "collapsed": false
   },
   "outputs": [
   ],
   "source": [
    "# Result with New, Added Features: we are not overfitting or underfitting"
   ]
  },
  {
   "cell_type": "code",
   "execution_count": 0,
   "metadata": {
    "collapsed": false
   },
   "outputs": [
   ],
   "source": [
    "# MORE LABELS: HEALTHY (0), EARLY SYSTOLIC (1), MID SYSTOLIC (2) LATE SYSTOLIC (3), HOLOSYSTOLIC (4), DIASTOLIC (5), BOTH (6)"
   ]
  },
  {
   "cell_type": "code",
   "execution_count": 11,
   "metadata": {
    "collapsed": false
   },
   "outputs": [
   ],
   "source": [
    "# Classification with New, Added Features"
   ]
  },
  {
   "cell_type": "code",
   "execution_count": 2,
   "metadata": {
    "collapsed": false
   },
   "outputs": [
   ],
   "source": [
    "# Loading the Data\n",
    "heart = pd.read_csv(\"heartsound_features_final.csv\")"
   ]
  },
  {
   "cell_type": "code",
   "execution_count": 3,
   "metadata": {
    "collapsed": false
   },
   "outputs": [
   ],
   "source": [
    "# heart.info()"
   ]
  },
  {
   "cell_type": "code",
   "execution_count": 4,
   "metadata": {
    "collapsed": false
   },
   "outputs": [
   ],
   "source": [
    "# heart.describe()"
   ]
  },
  {
   "cell_type": "code",
   "execution_count": 5,
   "metadata": {
    "collapsed": false
   },
   "outputs": [
    {
     "data": {
      "text/html": [
       "<div>\n",
       "<style scoped>\n",
       "    .dataframe tbody tr th:only-of-type {\n",
       "        vertical-align: middle;\n",
       "    }\n",
       "\n",
       "    .dataframe tbody tr th {\n",
       "        vertical-align: top;\n",
       "    }\n",
       "\n",
       "    .dataframe thead th {\n",
       "        text-align: right;\n",
       "    }\n",
       "</style>\n",
       "<table border=\"1\" class=\"dataframe\">\n",
       "  <thead>\n",
       "    <tr style=\"text-align: right;\">\n",
       "      <th></th>\n",
       "      <th>fileName</th>\n",
       "      <th>Label</th>\n",
       "      <th>S1@(ms)</th>\n",
       "      <th>S2@(ms)</th>\n",
       "      <th>systole</th>\n",
       "      <th>diastole</th>\n",
       "      <th>S1(ABV)</th>\n",
       "      <th>syst_mur(0/1)</th>\n",
       "      <th>smur_begin</th>\n",
       "      <th>syst_dur</th>\n",
       "      <th>...</th>\n",
       "      <th>Npeaks systole</th>\n",
       "      <th>Npeaks diastole</th>\n",
       "      <th>var_pks_systole</th>\n",
       "      <th>var_pks_diastole</th>\n",
       "      <th>L_pks_syst</th>\n",
       "      <th>M_pks_syst</th>\n",
       "      <th>H_pks_syst</th>\n",
       "      <th>L_pks_diast</th>\n",
       "      <th>M_pks_diast</th>\n",
       "      <th>H_pks_diast</th>\n",
       "    </tr>\n",
       "  </thead>\n",
       "  <tbody>\n",
       "  </tbody>\n",
       "</table>\n",
       "<p>0 rows × 34 columns</p>\n",
       "</div>"
      ],
      "text/plain": [
       "Empty DataFrame\n",
       "Columns: [fileName, Label, S1@(ms), S2@(ms), systole, diastole, S1(ABV), syst_mur(0/1), smur_begin, syst_dur, syst_amp, syst_freq, S2(ABV), diast_mur(0/1), dmur_begin, diast_dur, diast_amp, diast_freq, syst_s1_amp_ratio, diast_s1_amp_ratio, syst_mur(0/1).v2, diast_mur(0/1).v2, sum_diff_syst, sum_diff_diast, Npeaks systole, Npeaks diastole, var_pks_systole, var_pks_diastole, L_pks_syst, M_pks_syst, H_pks_syst, L_pks_diast, M_pks_diast, H_pks_diast]\n",
       "Index: []\n",
       "\n",
       "[0 rows x 34 columns]"
      ]
     },
     "execution_count": 5,
     "metadata": {
     },
     "output_type": "execute_result"
    }
   ],
   "source": [
    "sample_incomplete_rows = heart[heart.isnull().any(axis=1)].head()\n",
    "sample_incomplete_rows"
   ]
  },
  {
   "cell_type": "code",
   "execution_count": 6,
   "metadata": {
    "collapsed": false
   },
   "outputs": [
   ],
   "source": [
    "heart_labels = heart[\"Label\"].copy()\n",
    "heart = heart.drop(\"Label\", axis=1)\n",
    "heart = heart.drop(\"fileName\", axis=1)"
   ]
  },
  {
   "cell_type": "code",
   "execution_count": 7,
   "metadata": {
    "collapsed": false
   },
   "outputs": [
   ],
   "source": [
    "# Testing for Overfitting/Underfitting and Confusion Matrix Analysis"
   ]
  },
  {
   "cell_type": "code",
   "execution_count": 8,
   "metadata": {
    "collapsed": false
   },
   "outputs": [
   ],
   "source": [
    "# Cross-Validation with an 80-20 split"
   ]
  },
  {
   "cell_type": "code",
   "execution_count": 11,
   "metadata": {
    "collapsed": false
   },
   "outputs": [
    {
     "name": "stdout",
     "output_type": "stream",
     "text": [
      "90.65934065934067\n",
      "93.4065934065934\n"
     ]
    }
   ],
   "source": [
    "num = 10\n",
    "knn_acc = 0\n",
    "svm_acc = 0\n",
    "for i in range(0, num):\n",
    "\n",
    "    train_X, test_X, train_y, test_y = train_test_split(heart, heart_labels, test_size=.2)\n",
    "\n",
    "    # K-Nearest Neighbors to classify test set\n",
    "    knn = KNeighborsClassifier(n_neighbors=5)\n",
    "    knn.fit(train_X, train_y)\n",
    "    predictions = knn.predict(test_X)\n",
    "    knn_acc = knn_acc + accuracy_score(test_y, predictions, normalize=True, sample_weight=None)\n",
    "\n",
    "    # Support Vector Classifier to classify test set\n",
    "    clf = svm.SVC(kernel='linear')\n",
    "    clf.fit(train_X, train_y)\n",
    "    predictions = clf.predict(test_X)\n",
    "    svm_acc = svm_acc + accuracy_score(test_y, predictions, normalize=True, sample_weight=None)\n",
    "\n",
    "train_y_pred_knn = cross_val_predict(knn, train_X, train_y, cv=10)\n",
    "train_y_pred_svm = cross_val_predict(clf, train_X, train_y, cv=10)\n",
    "print(knn_acc / num * 100)\n",
    "print(svm_acc / num * 100)"
   ]
  },
  {
   "cell_type": "code",
   "execution_count": 10,
   "metadata": {
    "collapsed": false
   },
   "outputs": [
   ],
   "source": [
    "# Confusion Matrix\n",
    "    # Row – actual class\n",
    "    # Column – predicted class"
   ]
  },
  {
   "cell_type": "code",
   "execution_count": 13,
   "metadata": {
    "collapsed": false
   },
   "outputs": [
    {
     "data": {
      "text/plain": [
       "array([[74,  0,  2,  2,  0,  0,  1],\n",
       "       [ 0, 19,  0,  0,  2,  0,  0],\n",
       "       [ 3,  0, 77,  0,  4,  0,  2],\n",
       "       [ 0,  2,  0, 44,  0,  0,  0],\n",
       "       [ 0,  6,  4,  0, 45,  0,  2],\n",
       "       [ 6,  1,  1,  0,  0, 39,  0],\n",
       "       [ 2,  0,  1,  1,  2,  0, 20]])"
      ]
     },
     "execution_count": 13,
     "metadata": {
     },
     "output_type": "execute_result"
    }
   ],
   "source": [
    "# Confusion Matrix for KNN\n",
    "confusion_matrix(train_y, train_y_pred_knn)"
   ]
  },
  {
   "cell_type": "code",
   "execution_count": 14,
   "metadata": {
    "collapsed": false
   },
   "outputs": [
    {
     "data": {
      "text/plain": [
       "array([[79,  0,  0,  0,  0,  0,  0],\n",
       "       [ 0, 21,  0,  0,  0,  0,  0],\n",
       "       [ 2,  0, 80,  1,  2,  0,  1],\n",
       "       [ 1,  1,  1, 43,  0,  0,  0],\n",
       "       [ 0,  4,  3,  1, 46,  2,  1],\n",
       "       [ 0,  0,  0,  0,  3, 44,  0],\n",
       "       [ 1,  0,  0,  0,  2,  1, 22]])"
      ]
     },
     "execution_count": 14,
     "metadata": {
     },
     "output_type": "execute_result"
    }
   ],
   "source": [
    "# Confusion Matrix for SVM\n",
    "confusion_matrix(train_y, train_y_pred_svm)"
   ]
  },
  {
   "cell_type": "code",
   "execution_count": 18,
   "metadata": {
    "collapsed": false
   },
   "outputs": [
    {
     "name": "stdout",
     "output_type": "stream",
     "text": [
      "              precision    recall  f1-score   support\n",
      "\n",
      "           0      0.883     0.907     0.895        75\n",
      "           1      0.857     0.900     0.878        20\n",
      "           2      0.877     0.887     0.882        80\n",
      "           3      0.860     0.980     0.916        50\n",
      "           4      0.878     0.796     0.835        54\n",
      "           5      1.000     0.911     0.953        56\n",
      "           6      0.885     0.852     0.868        27\n",
      "\n",
      "    accuracy                          0.892       362\n",
      "   macro avg      0.891     0.890     0.890       362\n",
      "weighted avg      0.894     0.892     0.892       362\n",
      "\n"
     ]
    }
   ],
   "source": [
    "# Precision and Recall for KNN\n",
    "print(classification_report(train_y, train_y_pred_knn, digits=3))"
   ]
  },
  {
   "cell_type": "code",
   "execution_count": 19,
   "metadata": {
    "collapsed": false
   },
   "outputs": [
    {
     "name": "stdout",
     "output_type": "stream",
     "text": [
      "              precision    recall  f1-score   support\n",
      "\n",
      "           0      0.987     1.000     0.993        75\n",
      "           1      0.833     1.000     0.909        20\n",
      "           2      0.949     0.925     0.937        80\n",
      "           3      0.907     0.980     0.942        50\n",
      "           4      0.878     0.796     0.835        54\n",
      "           5      0.982     0.964     0.973        56\n",
      "           6      0.923     0.889     0.906        27\n",
      "\n",
      "    accuracy                          0.936       362\n",
      "   macro avg      0.923     0.936     0.928       362\n",
      "weighted avg      0.937     0.936     0.936       362\n",
      "\n"
     ]
    }
   ],
   "source": [
    "# Precision and Recall for SVM\n",
    "print(classification_report(train_y, train_y_pred_svm, digits=3))"
   ]
  },
  {
   "cell_type": "code",
   "execution_count": 20,
   "metadata": {
    "collapsed": false
   },
   "outputs": [
   ],
   "source": [
    "# Cross-Validation with an 90-10 split"
   ]
  },
  {
   "cell_type": "code",
   "execution_count": 23,
   "metadata": {
    "collapsed": false,
    "scrolled": true
   },
   "outputs": [
    {
     "name": "stdout",
     "output_type": "stream",
     "text": [
      "89.23076923076924\n",
      "92.96703296703296\n"
     ]
    }
   ],
   "source": [
    "num = 10\n",
    "knn_acc = 0\n",
    "svm_acc = 0\n",
    "for i in range(0, num):\n",
    "\n",
    "    train_X, test_X, train_y, test_y = train_test_split(heart, heart_labels, test_size=.2)\n",
    "\n",
    "    # K-Nearest Neighbors to classify test set\n",
    "    knn = KNeighborsClassifier(n_neighbors=5)\n",
    "    knn.fit(train_X, train_y)\n",
    "    predictions = knn.predict(test_X)\n",
    "    knn_acc = knn_acc + accuracy_score(test_y, predictions, normalize=True, sample_weight=None)\n",
    "\n",
    "    # Support Vector Classifier to classify test set\n",
    "    clf = svm.SVC(kernel='linear')\n",
    "    clf.fit(train_X, train_y)\n",
    "    predictions = clf.predict(test_X)\n",
    "    svm_acc = svm_acc + accuracy_score(test_y, predictions, normalize=True, sample_weight=None)\n",
    "\n",
    "\n",
    "train_y_pred_knn = cross_val_predict(knn, train_X, train_y, cv=10)\n",
    "train_y_pred_svm = cross_val_predict(clf, train_X, train_y, cv=10)\n",
    "print(knn_acc / num * 100)\n",
    "print(svm_acc / num * 100)"
   ]
  },
  {
   "cell_type": "code",
   "execution_count": 24,
   "metadata": {
    "collapsed": false
   },
   "outputs": [
    {
     "data": {
      "text/plain": [
       "array([[67,  0,  1,  1,  0,  0,  2],\n",
       "       [ 0, 19,  0,  0,  2,  0,  0],\n",
       "       [ 3,  0, 73,  0,  5,  0,  2],\n",
       "       [ 0,  0,  0, 51,  1,  0,  0],\n",
       "       [ 1,  0,  3,  0, 55,  1,  0],\n",
       "       [ 4,  2,  1,  0,  0, 44,  0],\n",
       "       [ 3,  0,  1,  1,  1,  0, 18]])"
      ]
     },
     "execution_count": 24,
     "metadata": {
     },
     "output_type": "execute_result"
    }
   ],
   "source": [
    "# Confusion Matrix for KNN\n",
    "confusion_matrix(train_y, train_y_pred_knn)"
   ]
  },
  {
   "cell_type": "code",
   "execution_count": 25,
   "metadata": {
    "collapsed": false
   },
   "outputs": [
    {
     "data": {
      "text/plain": [
       "array([[69,  0,  0,  2,  0,  0,  0],\n",
       "       [ 0, 21,  0,  0,  0,  0,  0],\n",
       "       [ 0,  0, 78,  1,  4,  0,  0],\n",
       "       [ 0,  1,  1, 50,  0,  0,  0],\n",
       "       [ 0,  2,  5,  0, 50,  2,  1],\n",
       "       [ 0,  0,  1,  0,  4, 46,  0],\n",
       "       [ 0,  0,  0,  0,  1,  0, 23]])"
      ]
     },
     "execution_count": 25,
     "metadata": {
     },
     "output_type": "execute_result"
    }
   ],
   "source": [
    "# Confusion Matrix for SVM\n",
    "confusion_matrix(train_y, train_y_pred_svm)"
   ]
  },
  {
   "cell_type": "code",
   "execution_count": 26,
   "metadata": {
    "collapsed": false
   },
   "outputs": [
    {
     "name": "stdout",
     "output_type": "stream",
     "text": [
      "              precision    recall  f1-score   support\n",
      "\n",
      "           0      0.859     0.944     0.899        71\n",
      "           1      0.905     0.905     0.905        21\n",
      "           2      0.924     0.880     0.901        83\n",
      "           3      0.962     0.981     0.971        52\n",
      "           4      0.859     0.917     0.887        60\n",
      "           5      0.978     0.863     0.917        51\n",
      "           6      0.818     0.750     0.783        24\n",
      "\n",
      "    accuracy                          0.903       362\n",
      "   macro avg      0.901     0.891     0.895       362\n",
      "weighted avg      0.905     0.903     0.903       362\n",
      "\n"
     ]
    }
   ],
   "source": [
    "# Precision and Recall for KNN\n",
    "print(classification_report(train_y, train_y_pred_knn, digits=3))"
   ]
  },
  {
   "cell_type": "code",
   "execution_count": 27,
   "metadata": {
    "collapsed": false
   },
   "outputs": [
    {
     "name": "stdout",
     "output_type": "stream",
     "text": [
      "              precision    recall  f1-score   support\n",
      "\n",
      "           0      1.000     0.972     0.986        71\n",
      "           1      0.875     1.000     0.933        21\n",
      "           2      0.918     0.940     0.929        83\n",
      "           3      0.943     0.962     0.952        52\n",
      "           4      0.847     0.833     0.840        60\n",
      "           5      0.958     0.902     0.929        51\n",
      "           6      0.958     0.958     0.958        24\n",
      "\n",
      "    accuracy                          0.931       362\n",
      "   macro avg      0.929     0.938     0.933       362\n",
      "weighted avg      0.932     0.931     0.931       362\n",
      "\n"
     ]
    }
   ],
   "source": [
    "# Precision and Recall for SVM\n",
    "print(classification_report(train_y, train_y_pred_svm, digits=3))"
   ]
  },
  {
   "cell_type": "code",
   "execution_count": 0,
   "metadata": {
    "collapsed": false
   },
   "outputs": [
   ],
   "source": [
    "# Result with New, Added Features: accuracy drops by about 1% for both KNN and SVM with change to 90–10 spit. Is this relevant?"
   ]
  }
 ],
 "metadata": {
  "kernelspec": {
   "display_name": "Python 3 (system-wide)",
   "language": "python",
   "metadata": {
    "cocalc": {
     "description": "Python 3 programming language",
     "priority": 100,
     "url": "https://www.python.org/"
    }
   },
   "name": "python3"
  },
  "language_info": {
   "codemirror_mode": {
    "name": "ipython",
    "version": 3
   },
   "file_extension": ".py",
   "mimetype": "text/x-python",
   "name": "python",
   "nbconvert_exporter": "python",
   "pygments_lexer": "ipython3",
   "version": "3.6.9"
  }
 },
 "nbformat": 4,
 "nbformat_minor": 4
}